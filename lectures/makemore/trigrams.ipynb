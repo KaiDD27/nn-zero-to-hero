{
 "cells": [
  {
   "cell_type": "code",
   "execution_count": 1,
   "metadata": {},
   "outputs": [],
   "source": [
    "words = open('names.txt', 'r').read().splitlines()"
   ]
  },
  {
   "cell_type": "code",
   "execution_count": 2,
   "metadata": {},
   "outputs": [
    {
     "data": {
      "text/plain": [
       "['emma',\n",
       " 'olivia',\n",
       " 'ava',\n",
       " 'isabella',\n",
       " 'sophia',\n",
       " 'charlotte',\n",
       " 'mia',\n",
       " 'amelia',\n",
       " 'harper',\n",
       " 'evelyn']"
      ]
     },
     "execution_count": 2,
     "metadata": {},
     "output_type": "execute_result"
    }
   ],
   "source": [
    "words[:10]"
   ]
  },
  {
   "cell_type": "code",
   "execution_count": 3,
   "metadata": {},
   "outputs": [],
   "source": [
    "import torch"
   ]
  },
  {
   "cell_type": "code",
   "execution_count": 4,
   "metadata": {},
   "outputs": [],
   "source": [
    "N = torch.zeros((27, 27, 27), dtype=torch.int32)"
   ]
  },
  {
   "cell_type": "code",
   "execution_count": 8,
   "metadata": {},
   "outputs": [
    {
     "name": "stdout",
     "output_type": "stream",
     "text": [
      "前三个 pairtoi 项:\n",
      ".a: 0\n",
      ".b: 1\n",
      ".c: 2\n",
      "前三个 stoi 项:\n",
      "a: 1\n",
      "b: 2\n",
      "c: 3\n"
     ]
    }
   ],
   "source": [
    "import string\n",
    "\n",
    "# 获取所有字母\n",
    "letters = string.ascii_lowercase\n",
    "\n",
    "# 生成所有可能的两字符组合，包括 '.'+字母 和 字母+'.'\n",
    "char_pairs = sorted(['.'+c for c in letters] + [c+'.' for c in letters] + \n",
    "                    [c1+c2 for c1 in letters for c2 in letters])\n",
    "\n",
    "pairtoi = {pair: i for i, pair in enumerate(char_pairs)}\n",
    "itopair = {i: pair for pair, i in pairtoi.items()}\n",
    "\n",
    "# 打印 stoi 的前十个项\n",
    "print(\"前三个 pairtoi 项:\")\n",
    "for i, (pair, index) in enumerate(list(pairtoi.items())[:3]):\n",
    "    print(f\"{pair}: {index}\")\n",
    "    \n",
    "chars = letters\n",
    "stoi = {s:i+1 for i,s in enumerate(letters)}\n",
    "stoi['.'] = 0\n",
    "itos = {i:s for s,i in stoi.items()}\n",
    "# 打印 stoi 的前三个项\n",
    "print(\"前三个 stoi 项:\")\n",
    "for i, (char, index) in enumerate(list(stoi.items())[:3]):\n",
    "    print(f\"{char}: {index}\")\n",
    "\n"
   ]
  },
  {
   "cell_type": "code",
   "execution_count": null,
   "metadata": {},
   "outputs": [],
   "source": [
    "\n",
    "for w in words:\n",
    "    chs = ['.'] + list(w) + ['.']\n",
    "    for ch1, ch2, ch3 in zip(chs, chs[1:], chs[2:]):\n",
    "        pair = ch1 + ch2\n",
    "        ix1 = pairtoi[pair]\n",
    "        ix2 = stoi[ch3]\n",
    "        N[ix1, ix2] += 1"
   ]
  }
 ],
 "metadata": {
  "kernelspec": {
   "display_name": "pyt2-1",
   "language": "python",
   "name": "pyt2-1"
  },
  "language_info": {
   "codemirror_mode": {
    "name": "ipython",
    "version": 3
   },
   "file_extension": ".py",
   "mimetype": "text/x-python",
   "name": "python",
   "nbconvert_exporter": "python",
   "pygments_lexer": "ipython3",
   "version": "3.11.9"
  }
 },
 "nbformat": 4,
 "nbformat_minor": 2
}
